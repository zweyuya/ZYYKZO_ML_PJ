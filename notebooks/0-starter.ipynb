{
 "cells": [
  {
   "cell_type": "markdown",
   "id": "b6f4e170",
   "metadata": {},
   "source": [
    "# Brief Checklist\n",
    "\n",
    "## .Devcontainer\n",
    "\n",
    "If you use this with `.devcontainer`, everything should just work like magic.\n",
    "Make sure that the kernel (the thing on the top right) says `python-project-start (3.12.11) (Python 3.12.11)`.\n",
    "\n",
    "## Without .Devcontainer\n",
    "\n",
    "Well, you should not. But if you want to skip using `Docker` for just a short period of time, you can set up your environment manually.\n",
    "I will no longer help people who use this in ML class if you don't have a good reason.\n",
    "\n",
    "Before you use this, create a `virtual environment` and pin thehon version using the following command.\n",
    "\n",
    "```sh\n",
    "uv sync\n",
    "```\n",
    "\n",
    "reopen this file.\n",
    "\n",
    "then, select the kernel that point to the root `.venv` folder.\n",
    "\n"
   ]
  },
  {
   "cell_type": "code",
   "execution_count": 1,
   "id": "ed67beb7",
   "metadata": {},
   "outputs": [
    {
     "name": "stdout",
     "output_type": "stream",
     "text": [
      "Hello World\n"
     ]
    }
   ],
   "source": [
    "# try run this.\n",
    "# If this does not run, fix it first\n",
    "print(\"Hello World\")"
   ]
  },
  {
   "cell_type": "markdown",
   "id": "38f5fc3a",
   "metadata": {},
   "source": [
    "# Path referencing\n",
    "\n",
    "Look at the `explorer`. There is a folder named `data`.\n",
    "Let's agree that we will put our data over there.\n",
    "\n",
    "I have put `example.csv` in the `data` folder.\n",
    "\n",
    "*Note: All files in `/data` are ignored in `.gitignore` except `.keeps` and `example.csv`.*"
   ]
  },
  {
   "cell_type": "code",
   "execution_count": 2,
   "id": "b77288e5",
   "metadata": {},
   "outputs": [
    {
     "data": {
      "text/html": [
       "<div>\n",
       "<style scoped>\n",
       "    .dataframe tbody tr th:only-of-type {\n",
       "        vertical-align: middle;\n",
       "    }\n",
       "\n",
       "    .dataframe tbody tr th {\n",
       "        vertical-align: top;\n",
       "    }\n",
       "\n",
       "    .dataframe thead th {\n",
       "        text-align: right;\n",
       "    }\n",
       "</style>\n",
       "<table border=\"1\" class=\"dataframe\">\n",
       "  <thead>\n",
       "    <tr style=\"text-align: right;\">\n",
       "      <th></th>\n",
       "      <th>col1</th>\n",
       "      <th>col2</th>\n",
       "      <th>col3</th>\n",
       "    </tr>\n",
       "  </thead>\n",
       "  <tbody>\n",
       "    <tr>\n",
       "      <th>0</th>\n",
       "      <td>1</td>\n",
       "      <td>2</td>\n",
       "      <td>3</td>\n",
       "    </tr>\n",
       "    <tr>\n",
       "      <th>1</th>\n",
       "      <td>11</td>\n",
       "      <td>22</td>\n",
       "      <td>33</td>\n",
       "    </tr>\n",
       "    <tr>\n",
       "      <th>2</th>\n",
       "      <td>111</td>\n",
       "      <td>222</td>\n",
       "      <td>333</td>\n",
       "    </tr>\n",
       "  </tbody>\n",
       "</table>\n",
       "</div>"
      ],
      "text/plain": [
       "   col1  col2  col3\n",
       "0     1     2     3\n",
       "1    11    22    33\n",
       "2   111   222   333"
      ]
     },
     "execution_count": 2,
     "metadata": {},
     "output_type": "execute_result"
    }
   ],
   "source": [
    "import pandas as pd\n",
    "\n",
    "\n",
    "pd.read_csv(\"../data/example.csv\") # type:ignore"
   ]
  },
  {
   "cell_type": "markdown",
   "id": "3f880f17",
   "metadata": {},
   "source": [
    "Notice that I have to refer the data with `../data/example.csv`.\n",
    "\n",
    "This is file referencing using relative path.\n",
    "\n",
    "Relative to what? Relative to this jupyter notebook file.\n",
    "\n",
    "`..` means parent directory.\n",
    "\n",
    "So, with `../` it refer to the parent of the directory of this jupyter notebook file.\n",
    "\n",
    "Then, we further reference the file path as if we are at the root directory with `data/example.csv`.\n",
    "\n",
    "If I have to break this down to a variable, it is like this."
   ]
  },
  {
   "cell_type": "code",
   "execution_count": 3,
   "id": "ad53699f",
   "metadata": {},
   "outputs": [
    {
     "name": "stdout",
     "output_type": "stream",
     "text": [
      "/Projects/python-project-starter/notebooks\n"
     ]
    }
   ],
   "source": [
    "# This is my current path\n",
    "!pwd"
   ]
  },
  {
   "cell_type": "code",
   "execution_count": 4,
   "id": "ccb07802",
   "metadata": {},
   "outputs": [
    {
     "name": "stdout",
     "output_type": "stream",
     "text": [
      "/Projects/python-project-starter/data/example.csv\n"
     ]
    },
    {
     "data": {
      "text/html": [
       "<div>\n",
       "<style scoped>\n",
       "    .dataframe tbody tr th:only-of-type {\n",
       "        vertical-align: middle;\n",
       "    }\n",
       "\n",
       "    .dataframe tbody tr th {\n",
       "        vertical-align: top;\n",
       "    }\n",
       "\n",
       "    .dataframe thead th {\n",
       "        text-align: right;\n",
       "    }\n",
       "</style>\n",
       "<table border=\"1\" class=\"dataframe\">\n",
       "  <thead>\n",
       "    <tr style=\"text-align: right;\">\n",
       "      <th></th>\n",
       "      <th>col1</th>\n",
       "      <th>col2</th>\n",
       "      <th>col3</th>\n",
       "    </tr>\n",
       "  </thead>\n",
       "  <tbody>\n",
       "    <tr>\n",
       "      <th>0</th>\n",
       "      <td>1</td>\n",
       "      <td>2</td>\n",
       "      <td>3</td>\n",
       "    </tr>\n",
       "    <tr>\n",
       "      <th>1</th>\n",
       "      <td>11</td>\n",
       "      <td>22</td>\n",
       "      <td>33</td>\n",
       "    </tr>\n",
       "    <tr>\n",
       "      <th>2</th>\n",
       "      <td>111</td>\n",
       "      <td>222</td>\n",
       "      <td>333</td>\n",
       "    </tr>\n",
       "  </tbody>\n",
       "</table>\n",
       "</div>"
      ],
      "text/plain": [
       "   col1  col2  col3\n",
       "0     1     2     3\n",
       "1    11    22    33\n",
       "2   111   222   333"
      ]
     },
     "execution_count": 4,
     "metadata": {},
     "output_type": "execute_result"
    }
   ],
   "source": [
    "import os\n",
    "ROOT_DIR = \"/Projects/python-project-starter\"\n",
    "DATA_DIR = \"data\"\n",
    "CSV_PATH = \"example.csv\"\n",
    "\n",
    "print(os.path.join(ROOT_DIR, DATA_DIR, CSV_PATH))\n",
    "\n",
    "pd.read_csv(os.path.join(ROOT_DIR, DATA_DIR, CSV_PATH)) # type:ignore"
   ]
  },
  {
   "cell_type": "markdown",
   "id": "fd8d825e",
   "metadata": {},
   "source": [
    "# Assigment\n",
    "\n",
    "Change the following variable to your name and student account, save, and push the changes.\n"
   ]
  },
  {
   "cell_type": "code",
   "execution_count": 5,
   "id": "2190bcd0",
   "metadata": {},
   "outputs": [
    {
     "name": "stdout",
     "output_type": "stream",
     "text": [
      "st125990 - Zwe Yu Ya Kyaw Zin Oo\n"
     ]
    }
   ],
   "source": [
    "name:str = \"Zwe Yu Ya Kyaw Zin Oo\"\n",
    "student_id:str = \"st125990\"\n",
    "print(f\"{student_id} - {name}\")"
   ]
  },
  {
   "cell_type": "code",
   "execution_count": null,
   "id": "2e2fbb64",
   "metadata": {},
   "outputs": [],
   "source": []
  }
 ],
 "metadata": {
  "kernelspec": {
   "display_name": "python-project-starter (3.12.11)",
   "language": "python",
   "name": "python3"
  },
  "language_info": {
   "codemirror_mode": {
    "name": "ipython",
    "version": 3
   },
   "file_extension": ".py",
   "mimetype": "text/x-python",
   "name": "python",
   "nbconvert_exporter": "python",
   "pygments_lexer": "ipython3",
   "version": "3.12.11"
  }
 },
 "nbformat": 4,
 "nbformat_minor": 5
}
